{
 "cells": [
  {
   "cell_type": "code",
   "execution_count": null,
   "metadata": {
    "collapsed": false
   },
   "outputs": [],
   "source": [
    "%matplotlib inline\n",
    "\n",
    "from nddata import NDDataArray, DataAxis\n",
    "import numpy as np\n",
    "\n",
    "#Init histogram\n",
    "hist = NDDataArray()\n",
    "\n",
    "#Add x-axis\n",
    "xaxis = DataAxis(np.linspace(0,100,10),'m', name='distance')\n",
    "hist.add_axis(xaxis)\n",
    "print('Dimensions: ',hist.dim)"
   ]
  },
  {
   "cell_type": "code",
   "execution_count": null,
   "metadata": {
    "collapsed": false
   },
   "outputs": [],
   "source": [
    "#Add faulty data\n",
    "data = np.arange(15)\n",
    "hist.data = data"
   ]
  },
  {
   "cell_type": "code",
   "execution_count": null,
   "metadata": {
    "collapsed": false
   },
   "outputs": [],
   "source": [
    "# Add real data\n",
    "import random\n",
    "data = [random.expovariate(hist.axes[0][_].value+1) for _ in range(10)]\n",
    "print(data)\n",
    "hist.data=data"
   ]
  },
  {
   "cell_type": "code",
   "execution_count": null,
   "metadata": {
    "collapsed": false
   },
   "outputs": [],
   "source": [
    "# Find nodes\n",
    "from astropy.units import Unit as u\n",
    "hist.find_node(distance = [2627 * u('cm'), 57 * u('m')])\n",
    "\n",
    "# Evaluate (no interpolation)\n",
    "hist.evaluate(distance = [14 * u('m'), 87 * u('m')])"
   ]
  },
  {
   "cell_type": "code",
   "execution_count": null,
   "metadata": {
    "collapsed": false
   },
   "outputs": [],
   "source": [
    "# Add second dimension\n",
    "from nddata import BinnedDataAxis\n",
    "\n",
    "yaxis = BinnedDataAxis.linspace(0, 5, 5, 'deg')\n",
    "yaxis.name = 'angle'\n",
    "\n",
    "hist.add_axis(yaxis)\n",
    "print('Dimension', hist.dim)\n",
    "\n",
    "# Data is deleted to avoid funcy behaviour\n",
    "print(hist.data)"
   ]
  },
  {
   "cell_type": "code",
   "execution_count": null,
   "metadata": {
    "collapsed": false
   },
   "outputs": [],
   "source": [
    "# Add faulty data (wrong axis order)\n",
    "val = np.arange(1,6)\n",
    "d = np.array(data)\n",
    "data_2d = np.tensordot(d, val, axes=0)\n",
    "\n",
    "print(data_2d.shape)\n",
    "hist.data = data_2d"
   ]
  },
  {
   "cell_type": "code",
   "execution_count": null,
   "metadata": {
    "collapsed": false
   },
   "outputs": [],
   "source": [
    "# Add correct data\n",
    "hist.data = np.transpose(data_2d)\n",
    "\n",
    "hist.evaluate(distance = 65 * u('m'), angle = 5 * u('deg'))"
   ]
  },
  {
   "cell_type": "code",
   "execution_count": null,
   "metadata": {
    "collapsed": false
   },
   "outputs": [],
   "source": [
    "hist.plot_image()"
   ]
  },
  {
   "cell_type": "code",
   "execution_count": null,
   "metadata": {
    "collapsed": false
   },
   "outputs": [],
   "source": [
    "hist.plot_profile('distance')"
   ]
  },
  {
   "cell_type": "code",
   "execution_count": null,
   "metadata": {
    "collapsed": true
   },
   "outputs": [],
   "source": []
  }
 ],
 "metadata": {
  "kernelspec": {
   "display_name": "Python 2",
   "language": "python",
   "name": "python2"
  },
  "language_info": {
   "codemirror_mode": {
    "name": "ipython",
    "version": 2
   },
   "file_extension": ".py",
   "mimetype": "text/x-python",
   "name": "python",
   "nbconvert_exporter": "python",
   "pygments_lexer": "ipython2",
   "version": "2.7.11"
  }
 },
 "nbformat": 4,
 "nbformat_minor": 0
}
