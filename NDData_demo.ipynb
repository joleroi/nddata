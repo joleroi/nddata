{
 "cells": [
  {
   "cell_type": "code",
   "execution_count": 1,
   "metadata": {
    "collapsed": false
   },
   "outputs": [
    {
     "name": "stdout",
     "output_type": "stream",
     "text": [
      "('Dimensions: ', 1)\n"
     ]
    }
   ],
   "source": [
    "%matplotlib inline\n",
    "\n",
    "from nddata import NDDataArray, DataAxis\n",
    "import numpy as np\n",
    "\n",
    "#Init histogram\n",
    "hist = NDDataArray()\n",
    "\n",
    "#Add x-axis\n",
    "xaxis = DataAxis(np.linspace(0,100,10),'m', name='distance')\n",
    "hist.add_axis(xaxis)\n",
    "print('Dimensions: ',hist.dim)"
   ]
  },
  {
   "cell_type": "code",
   "execution_count": 2,
   "metadata": {
    "collapsed": false
   },
   "outputs": [
    {
     "ename": "ValueError",
     "evalue": "Data shape does not match in dimension 0\nAxis \"distance\": 10, Data 15",
     "output_type": "error",
     "traceback": [
      "\u001b[1;31m---------------------------------------------------------------------------\u001b[0m",
      "\u001b[1;31mValueError\u001b[0m                                Traceback (most recent call last)",
      "\u001b[1;32m<ipython-input-2-2ec85368e9c3>\u001b[0m in \u001b[0;36m<module>\u001b[1;34m()\u001b[0m\n\u001b[0;32m      1\u001b[0m \u001b[1;31m#Add faulty data\u001b[0m\u001b[1;33m\u001b[0m\u001b[1;33m\u001b[0m\u001b[0m\n\u001b[0;32m      2\u001b[0m \u001b[0mdata\u001b[0m \u001b[1;33m=\u001b[0m \u001b[0mnp\u001b[0m\u001b[1;33m.\u001b[0m\u001b[0marange\u001b[0m\u001b[1;33m(\u001b[0m\u001b[1;36m15\u001b[0m\u001b[1;33m)\u001b[0m\u001b[1;33m\u001b[0m\u001b[0m\n\u001b[1;32m----> 3\u001b[1;33m \u001b[0mhist\u001b[0m\u001b[1;33m.\u001b[0m\u001b[0mdata\u001b[0m \u001b[1;33m=\u001b[0m \u001b[0mdata\u001b[0m\u001b[1;33m\u001b[0m\u001b[0m\n\u001b[0m",
      "\u001b[1;32m/home/kingj/Work/nddata/nddata.pyc\u001b[0m in \u001b[0;36mdata\u001b[1;34m(self, data)\u001b[0m\n\u001b[0;32m     74\u001b[0m                                  'Axis \"{n}\": {sa}, Data {sd}'.format(\n\u001b[0;32m     75\u001b[0m                                  \u001b[0md\u001b[0m\u001b[1;33m=\u001b[0m\u001b[0mdim\u001b[0m\u001b[1;33m,\u001b[0m \u001b[0mn\u001b[0m\u001b[1;33m=\u001b[0m\u001b[0ma\u001b[0m\u001b[1;33m.\u001b[0m\u001b[0mname\u001b[0m\u001b[1;33m,\u001b[0m \u001b[0msa\u001b[0m\u001b[1;33m=\u001b[0m\u001b[0ma\u001b[0m\u001b[1;33m.\u001b[0m\u001b[0mnbins\u001b[0m\u001b[1;33m,\u001b[0m\u001b[1;33m\u001b[0m\u001b[0m\n\u001b[1;32m---> 76\u001b[1;33m                                  sd=data.shape[dim]))\n\u001b[0m\u001b[0;32m     77\u001b[0m \u001b[1;33m\u001b[0m\u001b[0m\n\u001b[0;32m     78\u001b[0m         \u001b[0mself\u001b[0m\u001b[1;33m.\u001b[0m\u001b[0m_data\u001b[0m \u001b[1;33m=\u001b[0m \u001b[0mQuantity\u001b[0m\u001b[1;33m(\u001b[0m\u001b[0mdata\u001b[0m\u001b[1;33m)\u001b[0m\u001b[1;33m\u001b[0m\u001b[0m\n",
      "\u001b[1;31mValueError\u001b[0m: Data shape does not match in dimension 0\nAxis \"distance\": 10, Data 15"
     ]
    }
   ],
   "source": [
    "#Add faulty data\n",
    "data = np.arange(15)\n",
    "hist.data = data"
   ]
  },
  {
   "cell_type": "code",
   "execution_count": 3,
   "metadata": {
    "collapsed": false
   },
   "outputs": [
    {
     "name": "stdout",
     "output_type": "stream",
     "text": [
      "[0.609623070106417, 0.004155307113044101, 0.1774059556590868, 0.0037044323358520854, 0.008296547863930115, 0.02840890613694828, 0.023630942066698305, 0.00358458031695415, 0.017293338497348584, 0.009596083932415846]\n"
     ]
    }
   ],
   "source": [
    "# Add real data\n",
    "import random\n",
    "data = [random.expovariate(hist.axes[0][_].value+1) for _ in range(10)]\n",
    "print(data)\n",
    "hist.data=data"
   ]
  },
  {
   "cell_type": "code",
   "execution_count": 4,
   "metadata": {
    "collapsed": false
   },
   "outputs": [
    {
     "data": {
      "text/latex": [
       "$[0.0041553071,~0.017293338] \\; \\mathrm{}$"
      ],
      "text/plain": [
       "<Quantity [ 0.00415531, 0.01729334]>"
      ]
     },
     "execution_count": 4,
     "metadata": {},
     "output_type": "execute_result"
    }
   ],
   "source": [
    "# Find nodes\n",
    "from astropy.units import Unit as u\n",
    "hist.find_node(distance = [2627 * u('cm'), 57 * u('m')])\n",
    "\n",
    "# Evaluate (no interpolation)\n",
    "hist.evaluate_nearest(distance = [14 * u('m'), 87 * u('m')])"
   ]
  },
  {
   "cell_type": "code",
   "execution_count": 5,
   "metadata": {
    "collapsed": false
   },
   "outputs": [
    {
     "name": "stdout",
     "output_type": "stream",
     "text": [
      "(<Quantity [ 0.00415531, 0.01729334]>, <Quantity [ 0.04920048, 0.01496285]>)\n"
     ]
    }
   ],
   "source": [
    "# Evaluate using scipy interpolator\n",
    "hist.add_linear_interpolator()\n",
    "val1 = hist.evaluate(distance = [14 * u('m'), 87 * u('m')], method='nearest')\n",
    "val2 = hist.evaluate(distance = [14 * u('m'), 87 * u('m')], method='linear')\n",
    "print(val1, val2)"
   ]
  },
  {
   "cell_type": "code",
   "execution_count": 6,
   "metadata": {
    "collapsed": false
   },
   "outputs": [
    {
     "name": "stdout",
     "output_type": "stream",
     "text": [
      "('Dimension', 2)\n",
      "None\n"
     ]
    }
   ],
   "source": [
    "# Add second dimension\n",
    "from nddata import BinnedDataAxis\n",
    "\n",
    "yaxis = BinnedDataAxis.linspace(0, 5, 5, 'deg')\n",
    "yaxis.name = 'angle'\n",
    "\n",
    "hist.add_axis(yaxis)\n",
    "print('Dimension', hist.dim)\n",
    "\n",
    "# Data is deleted to avoid funcy behaviour\n",
    "print(hist.data)"
   ]
  },
  {
   "cell_type": "code",
   "execution_count": 7,
   "metadata": {
    "collapsed": false
   },
   "outputs": [
    {
     "name": "stdout",
     "output_type": "stream",
     "text": [
      "(10, 5)\n"
     ]
    },
    {
     "ename": "ValueError",
     "evalue": "Data shape does not match in dimension 0\nAxis \"angle\": 5, Data 10",
     "output_type": "error",
     "traceback": [
      "\u001b[1;31m---------------------------------------------------------------------------\u001b[0m",
      "\u001b[1;31mValueError\u001b[0m                                Traceback (most recent call last)",
      "\u001b[1;32m<ipython-input-7-6435a59fde31>\u001b[0m in \u001b[0;36m<module>\u001b[1;34m()\u001b[0m\n\u001b[0;32m      5\u001b[0m \u001b[1;33m\u001b[0m\u001b[0m\n\u001b[0;32m      6\u001b[0m \u001b[1;32mprint\u001b[0m\u001b[1;33m(\u001b[0m\u001b[0mdata_2d\u001b[0m\u001b[1;33m.\u001b[0m\u001b[0mshape\u001b[0m\u001b[1;33m)\u001b[0m\u001b[1;33m\u001b[0m\u001b[0m\n\u001b[1;32m----> 7\u001b[1;33m \u001b[0mhist\u001b[0m\u001b[1;33m.\u001b[0m\u001b[0mdata\u001b[0m \u001b[1;33m=\u001b[0m \u001b[0mdata_2d\u001b[0m\u001b[1;33m\u001b[0m\u001b[0m\n\u001b[0m",
      "\u001b[1;32m/home/kingj/Work/nddata/nddata.pyc\u001b[0m in \u001b[0;36mdata\u001b[1;34m(self, data)\u001b[0m\n\u001b[0;32m     74\u001b[0m                                  'Axis \"{n}\": {sa}, Data {sd}'.format(\n\u001b[0;32m     75\u001b[0m                                  \u001b[0md\u001b[0m\u001b[1;33m=\u001b[0m\u001b[0mdim\u001b[0m\u001b[1;33m,\u001b[0m \u001b[0mn\u001b[0m\u001b[1;33m=\u001b[0m\u001b[0ma\u001b[0m\u001b[1;33m.\u001b[0m\u001b[0mname\u001b[0m\u001b[1;33m,\u001b[0m \u001b[0msa\u001b[0m\u001b[1;33m=\u001b[0m\u001b[0ma\u001b[0m\u001b[1;33m.\u001b[0m\u001b[0mnbins\u001b[0m\u001b[1;33m,\u001b[0m\u001b[1;33m\u001b[0m\u001b[0m\n\u001b[1;32m---> 76\u001b[1;33m                                  sd=data.shape[dim]))\n\u001b[0m\u001b[0;32m     77\u001b[0m \u001b[1;33m\u001b[0m\u001b[0m\n\u001b[0;32m     78\u001b[0m         \u001b[0mself\u001b[0m\u001b[1;33m.\u001b[0m\u001b[0m_data\u001b[0m \u001b[1;33m=\u001b[0m \u001b[0mQuantity\u001b[0m\u001b[1;33m(\u001b[0m\u001b[0mdata\u001b[0m\u001b[1;33m)\u001b[0m\u001b[1;33m\u001b[0m\u001b[0m\n",
      "\u001b[1;31mValueError\u001b[0m: Data shape does not match in dimension 0\nAxis \"angle\": 5, Data 10"
     ]
    }
   ],
   "source": [
    "# Add faulty data (wrong axis order)\n",
    "val = np.arange(1,6)\n",
    "d = np.array(data)\n",
    "data_2d = np.tensordot(d, val, axes=0)\n",
    "\n",
    "print(data_2d.shape)\n",
    "hist.data = data_2d"
   ]
  },
  {
   "cell_type": "code",
   "execution_count": 12,
   "metadata": {
    "collapsed": false
   },
   "outputs": [],
   "source": [
    "# Add correct data\n",
    "hist.data = np.transpose(data_2d)\n"
   ]
  },
  {
   "cell_type": "code",
   "execution_count": 15,
   "metadata": {
    "collapsed": false
   },
   "outputs": [
    {
     "name": "stdout",
     "output_type": "stream",
     "text": [
      "((2, 2), (1, 3), (5, 1))\n"
     ]
    }
   ],
   "source": [
    "# Interpolation\n",
    "\n",
    "hist.add_linear_interpolator(bounds_error=True)\n",
    "\n",
    "val1 = hist.evaluate(distance = 65 * u('m'), angle = 3 * u('deg'))\n",
    "\n",
    "val2 = hist.evaluate(distance = [65, 23, 26] * u('m'), angle = 3 * u('deg'))\n",
    "\n",
    "val3 = hist.evaluate(distance = 65 * u('m'))\n",
    "\n",
    "print(val1.shape, val2.shape, val3.shape)"
   ]
  },
  {
   "cell_type": "code",
   "execution_count": 16,
   "metadata": {
    "collapsed": false
   },
   "outputs": [],
   "source": [
    "# FITS I/O\n",
    "\n",
    "test_file = 'test_file.fits'\n",
    "hist.write(test_file, overwrite=True)\n",
    "hist2 = NDDataArray.read(test_file)"
   ]
  }
 ],
 "metadata": {
  "kernelspec": {
   "display_name": "Python 2",
   "language": "python",
   "name": "python2"
  },
  "language_info": {
   "codemirror_mode": {
    "name": "ipython",
    "version": 2
   },
   "file_extension": ".py",
   "mimetype": "text/x-python",
   "name": "python",
   "nbconvert_exporter": "python",
   "pygments_lexer": "ipython2",
   "version": "2.7.11"
  }
 },
 "nbformat": 4,
 "nbformat_minor": 0
}
